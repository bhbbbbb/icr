{
 "cells": [
  {
   "cell_type": "code",
   "execution_count": null,
   "metadata": {},
   "outputs": [],
   "source": [
    "config = ..."
   ]
  },
  {
   "cell_type": "markdown",
   "metadata": {},
   "source": [
    "## Dataset\n",
    "\n",
    "1. Load data from csv files\n",
    "    - split them to train, test sets\n",
    "    - 85:15\n",
    "1. Preprocessing\n",
    "    - missing value\n",
    "    - categorical encoding\n",
    "1. Feature Engineering\n",
    "    - TODO"
   ]
  },
  {
   "cell_type": "code",
   "execution_count": null,
   "metadata": {},
   "outputs": [],
   "source": [
    "from icr.dataset import ICRDataset\n",
    "\n",
    "train_set = ICRDataset('train')\n",
    "test_set = ICRDataset(config, 'test')\n",
    "\n",
    "print(f'train_set: {len(train_set)} samples.')\n",
    "print(f'test_set: {len(test_set)} samples.')\n"
   ]
  },
  {
   "cell_type": "markdown",
   "metadata": {},
   "source": [
    "## Model"
   ]
  },
  {
   "cell_type": "code",
   "execution_count": null,
   "metadata": {},
   "outputs": [],
   "source": [
    "from icr.models import ICRModel\n",
    "model = ICRModel(...)\n",
    "model"
   ]
  },
  {
   "cell_type": "markdown",
   "metadata": {},
   "source": [
    "## Model Utils\n",
    "\n",
    "- Methods that have to be manually implemented for training\n",
    "    1. `_get_optimizer` &mdash; define how and what the optimizer to use.\n",
    "    1. `_get_scheduler` &mdash; define how and what the scheduler to use, can be omitted to use no scheduler.\n",
    "    1. `_train_epoch` &mdash; implement method for training a **single** epoch. Notice that the actual training process `train` has been predefined to enable the features going to be mentioned. Thus `train` should not be implemented manually, and `_train_epoch` method would be called in the method `train`.\n",
    "    1. `_eval_epoch` &mdash; implement method for evaluating a **single** epoch.\n",
    "\n",
    "<br>\n",
    "\n",
    "- Predefined utils for training given model, including features (should be properly configured):\n",
    "    1. Auto logging\n",
    "    1. Auto saving checkpoints\n",
    "    1. Auto Plotting\n",
    "    1. Early Stopping\n",
    "    1. K-fold Cross Validatoin (TODO)\n"
   ]
  },
  {
   "cell_type": "code",
   "execution_count": null,
   "metadata": {},
   "outputs": [],
   "source": [
    "from icr.model_utils import ICRModelUtils\n",
    "mode = 'new'\n",
    "# mode = 'last'\n",
    "# mode = '/path/to/checkpoint'"
   ]
  },
  {
   "cell_type": "markdown",
   "metadata": {},
   "source": [
    "### Start a new training"
   ]
  },
  {
   "cell_type": "code",
   "execution_count": null,
   "metadata": {},
   "outputs": [],
   "source": [
    "if mode == 'new':\n",
    "    model_utils = ICRModelUtils.start_new_training(model, config)"
   ]
  },
  {
   "cell_type": "markdown",
   "metadata": {},
   "source": [
    "### Load from checkpoint"
   ]
  },
  {
   "cell_type": "code",
   "execution_count": null,
   "metadata": {},
   "outputs": [],
   "source": [
    "# Automatically load from last saved checkpoint\n",
    "if mode == 'last':\n",
    "    model_utils = ICRModelUtils.load_last_checkpoint(model, config)"
   ]
  },
  {
   "cell_type": "markdown",
   "metadata": {},
   "source": [
    "### Load from specific checkpoint\n",
    "\n",
    "Note that the `config` here is optional to pass into the function, because\n",
    "the configuration would be stored in the checkpoint.\n",
    "`ModelUtils` will use the passed `config`, or the configuration saved in the checkpoint if `config` omitted."
   ]
  },
  {
   "cell_type": "code",
   "execution_count": null,
   "metadata": {},
   "outputs": [],
   "source": [
    "# Specify checkpoint by its path\n",
    "if mode not in ['new', 'last']:\n",
    "    checkpoint_path = mode\n",
    "    model_utils = ICRModelUtils.load_checkpoint(model, checkpoint_path, config)"
   ]
  },
  {
   "cell_type": "markdown",
   "metadata": {},
   "source": [
    "---\n",
    "\n",
    "## Start Training"
   ]
  },
  {
   "cell_type": "code",
   "execution_count": null,
   "metadata": {},
   "outputs": [],
   "source": [
    "epoch = 100\n",
    "model_utils.train(epoch, train_set, test_set)"
   ]
  }
 ],
 "metadata": {
  "kernelspec": {
   "display_name": "icr",
   "language": "python",
   "name": "python3"
  },
  "language_info": {
   "codemirror_mode": {
    "name": "ipython",
    "version": 3
   },
   "file_extension": ".py",
   "mimetype": "text/x-python",
   "name": "python",
   "nbconvert_exporter": "python",
   "pygments_lexer": "ipython3",
   "version": "3.8.12"
  },
  "orig_nbformat": 4
 },
 "nbformat": 4,
 "nbformat_minor": 2
}
